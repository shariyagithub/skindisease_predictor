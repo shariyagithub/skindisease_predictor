{
 "cells": [
  {
   "cell_type": "code",
   "execution_count": null,
   "id": "8efefad8-d5f0-4475-9529-6d4a5c23c264",
   "metadata": {},
   "outputs": [],
   "source": [
    "import tkinter as tk\n",
    "from tkinter import filedialog, Label, Button\n",
    "from PIL import Image, ImageTk\n",
    "import joblib\n",
    "import cv2\n",
    "from skimage.feature import hog\n",
    "import numpy as np\n",
    "\n",
    "# Load model\n",
    "model = joblib.load(\"naive_bayes.pkl\")\n",
    "\n",
    "# HOG function\n",
    "def extract_hog(img):\n",
    "    gray = cv2.cvtColor(img, cv2.COLOR_BGR2GRAY)\n",
    "    resized = cv2.resize(gray, (512, 512))  # Ensure same size used during training\n",
    "    features = hog(resized, orientations=9, pixels_per_cell=(8, 8),\n",
    "                   cells_per_block=(2, 2), block_norm='L2-Hys', visualize=False)\n",
    "    return features\n",
    "\n",
    "# Prediction logic\n",
    "def predict_image(path):\n",
    "    img = cv2.imread(path)\n",
    "    features = extract_hog(img)\n",
    "    prediction = model.predict(features.reshape(1, -1))\n",
    "    return prediction[0]\n",
    "\n",
    "# GUI logic\n",
    "def upload_image():\n",
    "    filepath = filedialog.askopenfilename()\n",
    "    if filepath:\n",
    "        img = Image.open(filepath)\n",
    "        img.thumbnail((300, 300))\n",
    "        img_tk = ImageTk.PhotoImage(img)\n",
    "        panel.config(image=img_tk)\n",
    "        panel.image = img_tk\n",
    "\n",
    "        # Predict and display result\n",
    "        pred = predict_image(filepath)\n",
    "        result_label.config(text=f\"Predicted: {pred}\")\n",
    "\n",
    "# GUI setup\n",
    "root = tk.Tk()\n",
    "root.title(\"Handwriting OCR\")\n",
    "\n",
    "Button(root, text=\"Upload Image\", command=upload_image).pack(pady=10)\n",
    "\n",
    "panel = Label(root)\n",
    "panel.pack()\n",
    "\n",
    "result_label = Label(root, text=\"\", font=(\"Helvetica\", 16))\n",
    "result_label.pack(pady=10)\n",
    "\n",
    "root.mainloop()\n"
   ]
  },
  {
   "cell_type": "code",
   "execution_count": null,
   "id": "e6774465-e2aa-410d-9ac2-cae88723f42e",
   "metadata": {},
   "outputs": [],
   "source": []
  },
  {
   "cell_type": "code",
   "execution_count": null,
   "id": "16f4e18a-46f3-45b9-9876-ac0cb44a34a6",
   "metadata": {},
   "outputs": [],
   "source": []
  },
  {
   "cell_type": "code",
   "execution_count": null,
   "id": "42098071-50e6-4f4e-906d-f81383b24243",
   "metadata": {},
   "outputs": [],
   "source": []
  }
 ],
 "metadata": {
  "kernelspec": {
   "display_name": "Python (matplotlib_env)",
   "language": "python",
   "name": "matplotlib_env"
  },
  "language_info": {
   "codemirror_mode": {
    "name": "ipython",
    "version": 3
   },
   "file_extension": ".py",
   "mimetype": "text/x-python",
   "name": "python",
   "nbconvert_exporter": "python",
   "pygments_lexer": "ipython3",
   "version": "3.12.4"
  }
 },
 "nbformat": 4,
 "nbformat_minor": 5
}
